{
 "cells": [
  {
   "cell_type": "code",
   "execution_count": 1,
   "id": "3a44bc10-2d6e-4b99-b7b8-9e1729b426c4",
   "metadata": {},
   "outputs": [],
   "source": [
    "# Importing libraries and data set\n",
    "\n",
    "import pandas as pd\n",
    "import numpy as np\n",
    "import os\n",
    "import matplotlib.pyplot as plt\n",
    "import seaborn as sns\n",
    "import scipy"
   ]
  },
  {
   "cell_type": "code",
   "execution_count": 2,
   "id": "377a70a3-86db-41e5-9f42-2e5bbb63fb03",
   "metadata": {},
   "outputs": [],
   "source": [
    "path = r'C:\\Users\\jmowe\\OneDrive\\Project 6 CF'"
   ]
  },
  {
   "cell_type": "code",
   "execution_count": 3,
   "id": "e66aaf9b-b1db-4b5d-a4a8-5241ac2b065f",
   "metadata": {},
   "outputs": [],
   "source": [
    "df = pd.read_csv(os.path.join(path, 'Data', 'US_Accidents_March23.csv'))"
   ]
  },
  {
   "cell_type": "code",
   "execution_count": 4,
   "id": "d6f59285-a365-4480-a850-85aacb7d3766",
   "metadata": {},
   "outputs": [
    {
     "data": {
      "text/plain": [
       "(7728394, 46)"
      ]
     },
     "execution_count": 4,
     "metadata": {},
     "output_type": "execute_result"
    }
   ],
   "source": [
    "df.shape"
   ]
  },
  {
   "cell_type": "code",
   "execution_count": 5,
   "id": "8f1f6507-c5a9-4598-a59b-64eae331bbae",
   "metadata": {},
   "outputs": [
    {
     "data": {
      "text/html": [
       "<div>\n",
       "<style scoped>\n",
       "    .dataframe tbody tr th:only-of-type {\n",
       "        vertical-align: middle;\n",
       "    }\n",
       "\n",
       "    .dataframe tbody tr th {\n",
       "        vertical-align: top;\n",
       "    }\n",
       "\n",
       "    .dataframe thead th {\n",
       "        text-align: right;\n",
       "    }\n",
       "</style>\n",
       "<table border=\"1\" class=\"dataframe\">\n",
       "  <thead>\n",
       "    <tr style=\"text-align: right;\">\n",
       "      <th></th>\n",
       "      <th>ID</th>\n",
       "      <th>Source</th>\n",
       "      <th>Severity</th>\n",
       "      <th>Start_Time</th>\n",
       "      <th>End_Time</th>\n",
       "      <th>Start_Lat</th>\n",
       "      <th>Start_Lng</th>\n",
       "      <th>End_Lat</th>\n",
       "      <th>End_Lng</th>\n",
       "      <th>Distance(mi)</th>\n",
       "      <th>...</th>\n",
       "      <th>Roundabout</th>\n",
       "      <th>Station</th>\n",
       "      <th>Stop</th>\n",
       "      <th>Traffic_Calming</th>\n",
       "      <th>Traffic_Signal</th>\n",
       "      <th>Turning_Loop</th>\n",
       "      <th>Sunrise_Sunset</th>\n",
       "      <th>Civil_Twilight</th>\n",
       "      <th>Nautical_Twilight</th>\n",
       "      <th>Astronomical_Twilight</th>\n",
       "    </tr>\n",
       "  </thead>\n",
       "  <tbody>\n",
       "    <tr>\n",
       "      <th>0</th>\n",
       "      <td>A-1</td>\n",
       "      <td>Source2</td>\n",
       "      <td>3</td>\n",
       "      <td>2016-02-08 05:46:00</td>\n",
       "      <td>2016-02-08 11:00:00</td>\n",
       "      <td>39.865147</td>\n",
       "      <td>-84.058723</td>\n",
       "      <td>NaN</td>\n",
       "      <td>NaN</td>\n",
       "      <td>0.01</td>\n",
       "      <td>...</td>\n",
       "      <td>False</td>\n",
       "      <td>False</td>\n",
       "      <td>False</td>\n",
       "      <td>False</td>\n",
       "      <td>False</td>\n",
       "      <td>False</td>\n",
       "      <td>Night</td>\n",
       "      <td>Night</td>\n",
       "      <td>Night</td>\n",
       "      <td>Night</td>\n",
       "    </tr>\n",
       "    <tr>\n",
       "      <th>1</th>\n",
       "      <td>A-2</td>\n",
       "      <td>Source2</td>\n",
       "      <td>2</td>\n",
       "      <td>2016-02-08 06:07:59</td>\n",
       "      <td>2016-02-08 06:37:59</td>\n",
       "      <td>39.928059</td>\n",
       "      <td>-82.831184</td>\n",
       "      <td>NaN</td>\n",
       "      <td>NaN</td>\n",
       "      <td>0.01</td>\n",
       "      <td>...</td>\n",
       "      <td>False</td>\n",
       "      <td>False</td>\n",
       "      <td>False</td>\n",
       "      <td>False</td>\n",
       "      <td>False</td>\n",
       "      <td>False</td>\n",
       "      <td>Night</td>\n",
       "      <td>Night</td>\n",
       "      <td>Night</td>\n",
       "      <td>Day</td>\n",
       "    </tr>\n",
       "    <tr>\n",
       "      <th>2</th>\n",
       "      <td>A-3</td>\n",
       "      <td>Source2</td>\n",
       "      <td>2</td>\n",
       "      <td>2016-02-08 06:49:27</td>\n",
       "      <td>2016-02-08 07:19:27</td>\n",
       "      <td>39.063148</td>\n",
       "      <td>-84.032608</td>\n",
       "      <td>NaN</td>\n",
       "      <td>NaN</td>\n",
       "      <td>0.01</td>\n",
       "      <td>...</td>\n",
       "      <td>False</td>\n",
       "      <td>False</td>\n",
       "      <td>False</td>\n",
       "      <td>False</td>\n",
       "      <td>True</td>\n",
       "      <td>False</td>\n",
       "      <td>Night</td>\n",
       "      <td>Night</td>\n",
       "      <td>Day</td>\n",
       "      <td>Day</td>\n",
       "    </tr>\n",
       "    <tr>\n",
       "      <th>3</th>\n",
       "      <td>A-4</td>\n",
       "      <td>Source2</td>\n",
       "      <td>3</td>\n",
       "      <td>2016-02-08 07:23:34</td>\n",
       "      <td>2016-02-08 07:53:34</td>\n",
       "      <td>39.747753</td>\n",
       "      <td>-84.205582</td>\n",
       "      <td>NaN</td>\n",
       "      <td>NaN</td>\n",
       "      <td>0.01</td>\n",
       "      <td>...</td>\n",
       "      <td>False</td>\n",
       "      <td>False</td>\n",
       "      <td>False</td>\n",
       "      <td>False</td>\n",
       "      <td>False</td>\n",
       "      <td>False</td>\n",
       "      <td>Night</td>\n",
       "      <td>Day</td>\n",
       "      <td>Day</td>\n",
       "      <td>Day</td>\n",
       "    </tr>\n",
       "    <tr>\n",
       "      <th>4</th>\n",
       "      <td>A-5</td>\n",
       "      <td>Source2</td>\n",
       "      <td>2</td>\n",
       "      <td>2016-02-08 07:39:07</td>\n",
       "      <td>2016-02-08 08:09:07</td>\n",
       "      <td>39.627781</td>\n",
       "      <td>-84.188354</td>\n",
       "      <td>NaN</td>\n",
       "      <td>NaN</td>\n",
       "      <td>0.01</td>\n",
       "      <td>...</td>\n",
       "      <td>False</td>\n",
       "      <td>False</td>\n",
       "      <td>False</td>\n",
       "      <td>False</td>\n",
       "      <td>True</td>\n",
       "      <td>False</td>\n",
       "      <td>Day</td>\n",
       "      <td>Day</td>\n",
       "      <td>Day</td>\n",
       "      <td>Day</td>\n",
       "    </tr>\n",
       "  </tbody>\n",
       "</table>\n",
       "<p>5 rows × 46 columns</p>\n",
       "</div>"
      ],
      "text/plain": [
       "    ID   Source  Severity           Start_Time             End_Time  \\\n",
       "0  A-1  Source2         3  2016-02-08 05:46:00  2016-02-08 11:00:00   \n",
       "1  A-2  Source2         2  2016-02-08 06:07:59  2016-02-08 06:37:59   \n",
       "2  A-3  Source2         2  2016-02-08 06:49:27  2016-02-08 07:19:27   \n",
       "3  A-4  Source2         3  2016-02-08 07:23:34  2016-02-08 07:53:34   \n",
       "4  A-5  Source2         2  2016-02-08 07:39:07  2016-02-08 08:09:07   \n",
       "\n",
       "   Start_Lat  Start_Lng  End_Lat  End_Lng  Distance(mi)  ... Roundabout  \\\n",
       "0  39.865147 -84.058723      NaN      NaN          0.01  ...      False   \n",
       "1  39.928059 -82.831184      NaN      NaN          0.01  ...      False   \n",
       "2  39.063148 -84.032608      NaN      NaN          0.01  ...      False   \n",
       "3  39.747753 -84.205582      NaN      NaN          0.01  ...      False   \n",
       "4  39.627781 -84.188354      NaN      NaN          0.01  ...      False   \n",
       "\n",
       "  Station   Stop Traffic_Calming Traffic_Signal Turning_Loop Sunrise_Sunset  \\\n",
       "0   False  False           False          False        False          Night   \n",
       "1   False  False           False          False        False          Night   \n",
       "2   False  False           False           True        False          Night   \n",
       "3   False  False           False          False        False          Night   \n",
       "4   False  False           False           True        False            Day   \n",
       "\n",
       "  Civil_Twilight Nautical_Twilight Astronomical_Twilight  \n",
       "0          Night             Night                 Night  \n",
       "1          Night             Night                   Day  \n",
       "2          Night               Day                   Day  \n",
       "3            Day               Day                   Day  \n",
       "4            Day               Day                   Day  \n",
       "\n",
       "[5 rows x 46 columns]"
      ]
     },
     "execution_count": 5,
     "metadata": {},
     "output_type": "execute_result"
    }
   ],
   "source": [
    "df.head()"
   ]
  },
  {
   "cell_type": "code",
   "execution_count": 6,
   "id": "0cef7420-a3a9-4c21-94ed-79d0ae68a2dc",
   "metadata": {},
   "outputs": [
    {
     "data": {
      "text/plain": [
       "array(['ID', 'Source', 'Severity', 'Start_Time', 'End_Time', 'Start_Lat',\n",
       "       'Start_Lng', 'End_Lat', 'End_Lng', 'Distance(mi)', 'Description',\n",
       "       'Street', 'City', 'County', 'State', 'Zipcode', 'Country',\n",
       "       'Timezone', 'Airport_Code', 'Weather_Timestamp', 'Temperature(F)',\n",
       "       'Wind_Chill(F)', 'Humidity(%)', 'Pressure(in)', 'Visibility(mi)',\n",
       "       'Wind_Direction', 'Wind_Speed(mph)', 'Precipitation(in)',\n",
       "       'Weather_Condition', 'Amenity', 'Bump', 'Crossing', 'Give_Way',\n",
       "       'Junction', 'No_Exit', 'Railway', 'Roundabout', 'Station', 'Stop',\n",
       "       'Traffic_Calming', 'Traffic_Signal', 'Turning_Loop',\n",
       "       'Sunrise_Sunset', 'Civil_Twilight', 'Nautical_Twilight',\n",
       "       'Astronomical_Twilight'], dtype=object)"
      ]
     },
     "execution_count": 6,
     "metadata": {},
     "output_type": "execute_result"
    }
   ],
   "source": [
    "df.columns.values"
   ]
  },
  {
   "cell_type": "code",
   "execution_count": 7,
   "id": "61f9d331-c790-4148-9b8d-71a4a3dc17d0",
   "metadata": {},
   "outputs": [
    {
     "name": "stdout",
     "output_type": "stream",
     "text": [
      "Index(['ID', 'Source', 'Severity', 'Start_Time', 'End_Time', 'Start_Lat',\n",
      "       'Start_Lng', 'End_Lat', 'End_Lng', 'Distance(mi)', 'Description',\n",
      "       'Street', 'City', 'County', 'State', 'Zipcode', 'Country', 'Timezone',\n",
      "       'Airport_Code', 'Weather_Timestamp', 'Temperature(F)', 'Wind_Chill(F)',\n",
      "       'Humidity(%)', 'Pressure(in)', 'Visibility(mi)', 'Wind_Direction',\n",
      "       'Wind_Speed(mph)', 'Precipitation(in)', 'Weather_Condition', 'Amenity',\n",
      "       'Bump', 'Crossing', 'Give_Way', 'Junction', 'No_Exit', 'Railway',\n",
      "       'Roundabout', 'Station', 'Stop', 'Traffic_Calming', 'Traffic_Signal',\n",
      "       'Turning_Loop', 'Sunrise_Sunset', 'Civil_Twilight', 'Nautical_Twilight',\n",
      "       'Astronomical_Twilight'],\n",
      "      dtype='object')\n"
     ]
    }
   ],
   "source": [
    "# Print the column names\n",
    "print(df.columns)\n"
   ]
  },
  {
   "cell_type": "code",
   "execution_count": 8,
   "id": "c2986bcf-288d-4ad1-a0e9-a103cf1a8672",
   "metadata": {},
   "outputs": [
    {
     "name": "stdout",
     "output_type": "stream",
     "text": [
      "[False]\n"
     ]
    }
   ],
   "source": [
    "#Turning_Loop has only 1 unique value so dropping it\n",
    "\n",
    "unique_values = df['Turning_Loop'].unique()\n",
    "print(unique_values)"
   ]
  },
  {
   "cell_type": "code",
   "execution_count": 9,
   "id": "4b603dda-c2c2-42ee-b10d-2c848bc92471",
   "metadata": {},
   "outputs": [],
   "source": [
    "df = df.drop('Turning_Loop', axis=1)"
   ]
  },
  {
   "cell_type": "code",
   "execution_count": 10,
   "id": "24c05592-284e-4247-bdda-88a8dc9e0965",
   "metadata": {},
   "outputs": [
    {
     "data": {
      "text/plain": [
       "0          3\n",
       "1          2\n",
       "2          2\n",
       "3          3\n",
       "4          2\n",
       "          ..\n",
       "7728389    2\n",
       "7728390    2\n",
       "7728391    2\n",
       "7728392    2\n",
       "7728393    2\n",
       "Name: Severity, Length: 7728394, dtype: int64"
      ]
     },
     "execution_count": 10,
     "metadata": {},
     "output_type": "execute_result"
    }
   ],
   "source": [
    "df.Severity"
   ]
  },
  {
   "cell_type": "code",
   "execution_count": 11,
   "id": "c23e1f23-e228-4bf3-b227-1f97338fbd25",
   "metadata": {},
   "outputs": [
    {
     "data": {
      "text/plain": [
       "array([3, 2, 2, ..., 2, 2, 2], dtype=int64)"
      ]
     },
     "execution_count": 11,
     "metadata": {},
     "output_type": "execute_result"
    }
   ],
   "source": [
    "df.Severity.values"
   ]
  },
  {
   "cell_type": "code",
   "execution_count": 12,
   "id": "4469cb26-9382-4636-a5f6-e3075d50c251",
   "metadata": {},
   "outputs": [
    {
     "name": "stdout",
     "output_type": "stream",
     "text": [
      "0          3\n",
      "1          2\n",
      "2          2\n",
      "3          3\n",
      "4          2\n",
      "          ..\n",
      "7728389    2\n",
      "7728390    2\n",
      "7728391    2\n",
      "7728392    2\n",
      "7728393    2\n",
      "Name: Severity, Length: 7728394, dtype: int64\n"
     ]
    }
   ],
   "source": [
    "column_name = 'Severity'\n",
    "column_values = df[column_name]\n",
    "print(column_values)"
   ]
  },
  {
   "cell_type": "code",
   "execution_count": 13,
   "id": "7b4eed91-bf11-4e0e-981f-b233a5283faa",
   "metadata": {},
   "outputs": [
    {
     "data": {
      "text/plain": [
       "4"
      ]
     },
     "execution_count": 13,
     "metadata": {},
     "output_type": "execute_result"
    }
   ],
   "source": [
    "df.Severity.max()"
   ]
  },
  {
   "cell_type": "code",
   "execution_count": 14,
   "id": "28950413-040d-497c-bf31-78ffb2de1624",
   "metadata": {},
   "outputs": [
    {
     "data": {
      "text/plain": [
       "array(['2016-02-08 05:58:00', '2016-02-08 05:51:00',\n",
       "       '2016-02-08 06:56:00', ..., '2019-08-23 18:53:00',\n",
       "       '2019-08-23 18:51:00', '2019-08-23 20:50:00'], dtype=object)"
      ]
     },
     "execution_count": 14,
     "metadata": {},
     "output_type": "execute_result"
    }
   ],
   "source": [
    "df.Weather_Timestamp.values"
   ]
  },
  {
   "cell_type": "code",
   "execution_count": 15,
   "id": "5633ceb1-0e90-4378-a23c-474511adda2d",
   "metadata": {},
   "outputs": [
    {
     "data": {
      "text/plain": [
       "array(['Light Rain', 'Light Rain', 'Overcast', ..., 'Partly Cloudy',\n",
       "       'Fair', 'Fair'], dtype=object)"
      ]
     },
     "execution_count": 15,
     "metadata": {},
     "output_type": "execute_result"
    }
   ],
   "source": [
    "df.Weather_Condition.values"
   ]
  },
  {
   "cell_type": "code",
   "execution_count": 16,
   "id": "a0af6f10-cdf1-4d10-b7ca-826813ca472c",
   "metadata": {},
   "outputs": [
    {
     "data": {
      "text/plain": [
       "array([False, False, False, ..., False, False, False])"
      ]
     },
     "execution_count": 16,
     "metadata": {},
     "output_type": "execute_result"
    }
   ],
   "source": [
    "df.Amenity.values"
   ]
  },
  {
   "cell_type": "code",
   "execution_count": 17,
   "id": "306e6cb7-afb3-414a-8403-052c851a49cf",
   "metadata": {},
   "outputs": [
    {
     "data": {
      "text/plain": [
       "array([False, False, False, ..., False, False, False])"
      ]
     },
     "execution_count": 17,
     "metadata": {},
     "output_type": "execute_result"
    }
   ],
   "source": [
    "df.Bump.values"
   ]
  },
  {
   "cell_type": "code",
   "execution_count": 18,
   "id": "3652702d-1fd4-4109-9612-244cc2e2a1a5",
   "metadata": {},
   "outputs": [
    {
     "data": {
      "text/plain": [
       "array([False, False, False, ..., False, False, False])"
      ]
     },
     "execution_count": 18,
     "metadata": {},
     "output_type": "execute_result"
    }
   ],
   "source": [
    "df.Crossing.values"
   ]
  },
  {
   "cell_type": "code",
   "execution_count": 19,
   "id": "28463d23-e9b6-4885-90ee-5ab67a7d0408",
   "metadata": {},
   "outputs": [
    {
     "data": {
      "text/plain": [
       "ID                       7728394\n",
       "Source                   7728394\n",
       "Severity                 7728394\n",
       "Start_Time               7728394\n",
       "End_Time                 7728394\n",
       "Start_Lat                7728394\n",
       "Start_Lng                7728394\n",
       "End_Lat                  4325632\n",
       "End_Lng                  4325632\n",
       "Distance(mi)             7728394\n",
       "Description              7728389\n",
       "Street                   7717525\n",
       "City                     7728141\n",
       "County                   7728394\n",
       "State                    7728394\n",
       "Zipcode                  7726479\n",
       "Country                  7728394\n",
       "Timezone                 7720586\n",
       "Airport_Code             7705759\n",
       "Weather_Timestamp        7608166\n",
       "Temperature(F)           7564541\n",
       "Wind_Chill(F)            5729375\n",
       "Humidity(%)              7554250\n",
       "Pressure(in)             7587715\n",
       "Visibility(mi)           7551296\n",
       "Wind_Direction           7553188\n",
       "Wind_Speed(mph)          7157161\n",
       "Precipitation(in)        5524808\n",
       "Weather_Condition        7554935\n",
       "Amenity                  7728394\n",
       "Bump                     7728394\n",
       "Crossing                 7728394\n",
       "Give_Way                 7728394\n",
       "Junction                 7728394\n",
       "No_Exit                  7728394\n",
       "Railway                  7728394\n",
       "Roundabout               7728394\n",
       "Station                  7728394\n",
       "Stop                     7728394\n",
       "Traffic_Calming          7728394\n",
       "Traffic_Signal           7728394\n",
       "Sunrise_Sunset           7705148\n",
       "Civil_Twilight           7705148\n",
       "Nautical_Twilight        7705148\n",
       "Astronomical_Twilight    7705148\n",
       "dtype: int64"
      ]
     },
     "execution_count": 19,
     "metadata": {},
     "output_type": "execute_result"
    }
   ],
   "source": [
    "df.count()"
   ]
  },
  {
   "cell_type": "code",
   "execution_count": 20,
   "id": "17d4ffe6-fbd0-41c3-9621-d74726372ef4",
   "metadata": {},
   "outputs": [
    {
     "data": {
      "text/plain": [
       "ID                             0\n",
       "Source                         0\n",
       "Severity                       0\n",
       "Start_Time                     0\n",
       "End_Time                       0\n",
       "Start_Lat                      0\n",
       "Start_Lng                      0\n",
       "End_Lat                  3402762\n",
       "End_Lng                  3402762\n",
       "Distance(mi)                   0\n",
       "Description                    5\n",
       "Street                     10869\n",
       "City                         253\n",
       "County                         0\n",
       "State                          0\n",
       "Zipcode                     1915\n",
       "Country                        0\n",
       "Timezone                    7808\n",
       "Airport_Code               22635\n",
       "Weather_Timestamp         120228\n",
       "Temperature(F)            163853\n",
       "Wind_Chill(F)            1999019\n",
       "Humidity(%)               174144\n",
       "Pressure(in)              140679\n",
       "Visibility(mi)            177098\n",
       "Wind_Direction            175206\n",
       "Wind_Speed(mph)           571233\n",
       "Precipitation(in)        2203586\n",
       "Weather_Condition         173459\n",
       "Amenity                        0\n",
       "Bump                           0\n",
       "Crossing                       0\n",
       "Give_Way                       0\n",
       "Junction                       0\n",
       "No_Exit                        0\n",
       "Railway                        0\n",
       "Roundabout                     0\n",
       "Station                        0\n",
       "Stop                           0\n",
       "Traffic_Calming                0\n",
       "Traffic_Signal                 0\n",
       "Sunrise_Sunset             23246\n",
       "Civil_Twilight             23246\n",
       "Nautical_Twilight          23246\n",
       "Astronomical_Twilight      23246\n",
       "dtype: int64"
      ]
     },
     "execution_count": 20,
     "metadata": {},
     "output_type": "execute_result"
    }
   ],
   "source": [
    "df.isnull().sum()"
   ]
  },
  {
   "cell_type": "code",
   "execution_count": 21,
   "id": "f298c620-04b4-4474-a570-8f818728248c",
   "metadata": {},
   "outputs": [],
   "source": [
    "#Checking for dups, no dups found\n",
    "df_dups = df[df.duplicated()]"
   ]
  },
  {
   "cell_type": "code",
   "execution_count": 22,
   "id": "380ad9d8-768e-4e09-b441-58c713d36cb3",
   "metadata": {},
   "outputs": [
    {
     "data": {
      "text/html": [
       "<div>\n",
       "<style scoped>\n",
       "    .dataframe tbody tr th:only-of-type {\n",
       "        vertical-align: middle;\n",
       "    }\n",
       "\n",
       "    .dataframe tbody tr th {\n",
       "        vertical-align: top;\n",
       "    }\n",
       "\n",
       "    .dataframe thead th {\n",
       "        text-align: right;\n",
       "    }\n",
       "</style>\n",
       "<table border=\"1\" class=\"dataframe\">\n",
       "  <thead>\n",
       "    <tr style=\"text-align: right;\">\n",
       "      <th></th>\n",
       "      <th>ID</th>\n",
       "      <th>Source</th>\n",
       "      <th>Severity</th>\n",
       "      <th>Start_Time</th>\n",
       "      <th>End_Time</th>\n",
       "      <th>Start_Lat</th>\n",
       "      <th>Start_Lng</th>\n",
       "      <th>End_Lat</th>\n",
       "      <th>End_Lng</th>\n",
       "      <th>Distance(mi)</th>\n",
       "      <th>...</th>\n",
       "      <th>Railway</th>\n",
       "      <th>Roundabout</th>\n",
       "      <th>Station</th>\n",
       "      <th>Stop</th>\n",
       "      <th>Traffic_Calming</th>\n",
       "      <th>Traffic_Signal</th>\n",
       "      <th>Sunrise_Sunset</th>\n",
       "      <th>Civil_Twilight</th>\n",
       "      <th>Nautical_Twilight</th>\n",
       "      <th>Astronomical_Twilight</th>\n",
       "    </tr>\n",
       "  </thead>\n",
       "  <tbody>\n",
       "  </tbody>\n",
       "</table>\n",
       "<p>0 rows × 45 columns</p>\n",
       "</div>"
      ],
      "text/plain": [
       "Empty DataFrame\n",
       "Columns: [ID, Source, Severity, Start_Time, End_Time, Start_Lat, Start_Lng, End_Lat, End_Lng, Distance(mi), Description, Street, City, County, State, Zipcode, Country, Timezone, Airport_Code, Weather_Timestamp, Temperature(F), Wind_Chill(F), Humidity(%), Pressure(in), Visibility(mi), Wind_Direction, Wind_Speed(mph), Precipitation(in), Weather_Condition, Amenity, Bump, Crossing, Give_Way, Junction, No_Exit, Railway, Roundabout, Station, Stop, Traffic_Calming, Traffic_Signal, Sunrise_Sunset, Civil_Twilight, Nautical_Twilight, Astronomical_Twilight]\n",
       "Index: []\n",
       "\n",
       "[0 rows x 45 columns]"
      ]
     },
     "execution_count": 22,
     "metadata": {},
     "output_type": "execute_result"
    }
   ],
   "source": [
    "df_dups"
   ]
  },
  {
   "cell_type": "code",
   "execution_count": 23,
   "id": "5509549f-745d-48bb-8ada-42fa3083fce9",
   "metadata": {},
   "outputs": [
    {
     "name": "stdout",
     "output_type": "stream",
     "text": [
      "Index(['Amenity', 'Bump', 'Crossing', 'Give_Way', 'Junction', 'No_Exit',\n",
      "       'Railway', 'Roundabout', 'Station', 'Stop', 'Traffic_Calming',\n",
      "       'Traffic_Signal'],\n",
      "      dtype='object')\n"
     ]
    }
   ],
   "source": [
    "#Identifying true/false columns\n",
    "boolean_columns = df.select_dtypes(include=bool).columns\n",
    "print(boolean_columns)"
   ]
  },
  {
   "cell_type": "code",
   "execution_count": 24,
   "id": "fc05b8b8-bb32-4c29-b032-e595af1db151",
   "metadata": {},
   "outputs": [],
   "source": [
    "#Changing True/False to 1/0\n",
    "for column in boolean_columns:\n",
    "    if df[column].dtype == bool:\n",
    "        df[column] = df[column].astype(int)"
   ]
  },
  {
   "cell_type": "code",
   "execution_count": 25,
   "id": "c53192c4-90e7-49b2-bdbd-12b34eabbcd8",
   "metadata": {},
   "outputs": [
    {
     "name": "stdout",
     "output_type": "stream",
     "text": [
      "Description\n",
      "Street\n",
      "City\n",
      "Zipcode\n",
      "Timezone\n",
      "Airport_Code\n",
      "Weather_Timestamp\n",
      "Wind_Direction\n",
      "Weather_Condition\n",
      "Sunrise_Sunset\n",
      "Civil_Twilight\n",
      "Nautical_Twilight\n",
      "Astronomical_Twilight\n"
     ]
    }
   ],
   "source": [
    "#Checking mixed-type columns\n",
    "\n",
    "for col in df.columns.tolist():\n",
    "      weird = (df[[col]].applymap(type) != df[[col]].iloc[0].apply(type)).any(axis = 1)\n",
    "      if len (df[weird]) > 0:\n",
    "        print (col)\n"
   ]
  },
  {
   "cell_type": "code",
   "execution_count": 26,
   "id": "6e0035cb-a49b-4dde-80da-7cf369189cd2",
   "metadata": {},
   "outputs": [
    {
     "name": "stdout",
     "output_type": "stream",
     "text": [
      "['Night' 'Day' nan]\n"
     ]
    }
   ],
   "source": [
    "unique_values = df['Civil_Twilight'].unique()\n",
    "print(unique_values)"
   ]
  },
  {
   "cell_type": "code",
   "execution_count": 27,
   "id": "b2288e15-7cd8-4fa7-b7e2-bd20dad7afaf",
   "metadata": {},
   "outputs": [],
   "source": [
    "#Making new dataset with all missing values dropped\n",
    "\n",
    "df_clean = df.dropna()"
   ]
  },
  {
   "cell_type": "code",
   "execution_count": 28,
   "id": "3f4753ad-b3ff-4dd5-b5a6-973f08463507",
   "metadata": {},
   "outputs": [
    {
     "data": {
      "text/plain": [
       "ID                       3554549\n",
       "Source                   3554549\n",
       "Severity                 3554549\n",
       "Start_Time               3554549\n",
       "End_Time                 3554549\n",
       "Start_Lat                3554549\n",
       "Start_Lng                3554549\n",
       "End_Lat                  3554549\n",
       "End_Lng                  3554549\n",
       "Distance(mi)             3554549\n",
       "Description              3554549\n",
       "Street                   3554549\n",
       "City                     3554549\n",
       "County                   3554549\n",
       "State                    3554549\n",
       "Zipcode                  3554549\n",
       "Country                  3554549\n",
       "Timezone                 3554549\n",
       "Airport_Code             3554549\n",
       "Weather_Timestamp        3554549\n",
       "Temperature(F)           3554549\n",
       "Wind_Chill(F)            3554549\n",
       "Humidity(%)              3554549\n",
       "Pressure(in)             3554549\n",
       "Visibility(mi)           3554549\n",
       "Wind_Direction           3554549\n",
       "Wind_Speed(mph)          3554549\n",
       "Precipitation(in)        3554549\n",
       "Weather_Condition        3554549\n",
       "Amenity                  3554549\n",
       "Bump                     3554549\n",
       "Crossing                 3554549\n",
       "Give_Way                 3554549\n",
       "Junction                 3554549\n",
       "No_Exit                  3554549\n",
       "Railway                  3554549\n",
       "Roundabout               3554549\n",
       "Station                  3554549\n",
       "Stop                     3554549\n",
       "Traffic_Calming          3554549\n",
       "Traffic_Signal           3554549\n",
       "Sunrise_Sunset           3554549\n",
       "Civil_Twilight           3554549\n",
       "Nautical_Twilight        3554549\n",
       "Astronomical_Twilight    3554549\n",
       "dtype: int64"
      ]
     },
     "execution_count": 28,
     "metadata": {},
     "output_type": "execute_result"
    }
   ],
   "source": [
    "df_clean.count()"
   ]
  },
  {
   "cell_type": "code",
   "execution_count": 29,
   "id": "31d2f483-0f3b-4a95-87d2-8580d2398b48",
   "metadata": {},
   "outputs": [
    {
     "data": {
      "text/html": [
       "<div>\n",
       "<style scoped>\n",
       "    .dataframe tbody tr th:only-of-type {\n",
       "        vertical-align: middle;\n",
       "    }\n",
       "\n",
       "    .dataframe tbody tr th {\n",
       "        vertical-align: top;\n",
       "    }\n",
       "\n",
       "    .dataframe thead th {\n",
       "        text-align: right;\n",
       "    }\n",
       "</style>\n",
       "<table border=\"1\" class=\"dataframe\">\n",
       "  <thead>\n",
       "    <tr style=\"text-align: right;\">\n",
       "      <th></th>\n",
       "      <th>ID</th>\n",
       "      <th>Source</th>\n",
       "      <th>Severity</th>\n",
       "      <th>Start_Time</th>\n",
       "      <th>End_Time</th>\n",
       "      <th>Start_Lat</th>\n",
       "      <th>Start_Lng</th>\n",
       "      <th>End_Lat</th>\n",
       "      <th>End_Lng</th>\n",
       "      <th>Distance(mi)</th>\n",
       "      <th>...</th>\n",
       "      <th>Railway</th>\n",
       "      <th>Roundabout</th>\n",
       "      <th>Station</th>\n",
       "      <th>Stop</th>\n",
       "      <th>Traffic_Calming</th>\n",
       "      <th>Traffic_Signal</th>\n",
       "      <th>Sunrise_Sunset</th>\n",
       "      <th>Civil_Twilight</th>\n",
       "      <th>Nautical_Twilight</th>\n",
       "      <th>Astronomical_Twilight</th>\n",
       "    </tr>\n",
       "  </thead>\n",
       "  <tbody>\n",
       "    <tr>\n",
       "      <th>3402762</th>\n",
       "      <td>A-3412645</td>\n",
       "      <td>Source1</td>\n",
       "      <td>3</td>\n",
       "      <td>2016-02-08 00:37:08</td>\n",
       "      <td>2016-02-08 06:37:08</td>\n",
       "      <td>40.108910</td>\n",
       "      <td>-83.092860</td>\n",
       "      <td>40.112060</td>\n",
       "      <td>-83.031870</td>\n",
       "      <td>3.230</td>\n",
       "      <td>...</td>\n",
       "      <td>0</td>\n",
       "      <td>0</td>\n",
       "      <td>0</td>\n",
       "      <td>0</td>\n",
       "      <td>0</td>\n",
       "      <td>0</td>\n",
       "      <td>Night</td>\n",
       "      <td>Night</td>\n",
       "      <td>Night</td>\n",
       "      <td>Night</td>\n",
       "    </tr>\n",
       "    <tr>\n",
       "      <th>3402767</th>\n",
       "      <td>A-3412650</td>\n",
       "      <td>Source1</td>\n",
       "      <td>3</td>\n",
       "      <td>2016-02-08 07:53:43</td>\n",
       "      <td>2016-02-08 13:53:43</td>\n",
       "      <td>39.172393</td>\n",
       "      <td>-84.492792</td>\n",
       "      <td>39.170476</td>\n",
       "      <td>-84.501798</td>\n",
       "      <td>0.500</td>\n",
       "      <td>...</td>\n",
       "      <td>0</td>\n",
       "      <td>0</td>\n",
       "      <td>0</td>\n",
       "      <td>0</td>\n",
       "      <td>0</td>\n",
       "      <td>0</td>\n",
       "      <td>Day</td>\n",
       "      <td>Day</td>\n",
       "      <td>Day</td>\n",
       "      <td>Day</td>\n",
       "    </tr>\n",
       "    <tr>\n",
       "      <th>3402771</th>\n",
       "      <td>A-3412654</td>\n",
       "      <td>Source1</td>\n",
       "      <td>2</td>\n",
       "      <td>2016-02-08 11:51:46</td>\n",
       "      <td>2016-02-08 17:51:46</td>\n",
       "      <td>41.375310</td>\n",
       "      <td>-81.820170</td>\n",
       "      <td>41.367860</td>\n",
       "      <td>-81.821740</td>\n",
       "      <td>0.521</td>\n",
       "      <td>...</td>\n",
       "      <td>0</td>\n",
       "      <td>0</td>\n",
       "      <td>0</td>\n",
       "      <td>0</td>\n",
       "      <td>0</td>\n",
       "      <td>0</td>\n",
       "      <td>Day</td>\n",
       "      <td>Day</td>\n",
       "      <td>Day</td>\n",
       "      <td>Day</td>\n",
       "    </tr>\n",
       "    <tr>\n",
       "      <th>3402773</th>\n",
       "      <td>A-3412656</td>\n",
       "      <td>Source1</td>\n",
       "      <td>2</td>\n",
       "      <td>2016-02-08 15:16:43</td>\n",
       "      <td>2016-02-08 21:16:43</td>\n",
       "      <td>40.109310</td>\n",
       "      <td>-82.968490</td>\n",
       "      <td>40.110780</td>\n",
       "      <td>-82.984000</td>\n",
       "      <td>0.826</td>\n",
       "      <td>...</td>\n",
       "      <td>0</td>\n",
       "      <td>0</td>\n",
       "      <td>0</td>\n",
       "      <td>0</td>\n",
       "      <td>0</td>\n",
       "      <td>0</td>\n",
       "      <td>Day</td>\n",
       "      <td>Day</td>\n",
       "      <td>Day</td>\n",
       "      <td>Day</td>\n",
       "    </tr>\n",
       "    <tr>\n",
       "      <th>3402774</th>\n",
       "      <td>A-3412657</td>\n",
       "      <td>Source1</td>\n",
       "      <td>2</td>\n",
       "      <td>2016-02-08 15:43:50</td>\n",
       "      <td>2016-02-08 21:43:50</td>\n",
       "      <td>39.192880</td>\n",
       "      <td>-84.477230</td>\n",
       "      <td>39.196150</td>\n",
       "      <td>-84.473350</td>\n",
       "      <td>0.307</td>\n",
       "      <td>...</td>\n",
       "      <td>0</td>\n",
       "      <td>0</td>\n",
       "      <td>0</td>\n",
       "      <td>0</td>\n",
       "      <td>0</td>\n",
       "      <td>0</td>\n",
       "      <td>Day</td>\n",
       "      <td>Day</td>\n",
       "      <td>Day</td>\n",
       "      <td>Day</td>\n",
       "    </tr>\n",
       "  </tbody>\n",
       "</table>\n",
       "<p>5 rows × 45 columns</p>\n",
       "</div>"
      ],
      "text/plain": [
       "                ID   Source  Severity           Start_Time  \\\n",
       "3402762  A-3412645  Source1         3  2016-02-08 00:37:08   \n",
       "3402767  A-3412650  Source1         3  2016-02-08 07:53:43   \n",
       "3402771  A-3412654  Source1         2  2016-02-08 11:51:46   \n",
       "3402773  A-3412656  Source1         2  2016-02-08 15:16:43   \n",
       "3402774  A-3412657  Source1         2  2016-02-08 15:43:50   \n",
       "\n",
       "                    End_Time  Start_Lat  Start_Lng    End_Lat    End_Lng  \\\n",
       "3402762  2016-02-08 06:37:08  40.108910 -83.092860  40.112060 -83.031870   \n",
       "3402767  2016-02-08 13:53:43  39.172393 -84.492792  39.170476 -84.501798   \n",
       "3402771  2016-02-08 17:51:46  41.375310 -81.820170  41.367860 -81.821740   \n",
       "3402773  2016-02-08 21:16:43  40.109310 -82.968490  40.110780 -82.984000   \n",
       "3402774  2016-02-08 21:43:50  39.192880 -84.477230  39.196150 -84.473350   \n",
       "\n",
       "         Distance(mi)  ... Railway Roundabout Station Stop Traffic_Calming  \\\n",
       "3402762         3.230  ...       0          0       0    0               0   \n",
       "3402767         0.500  ...       0          0       0    0               0   \n",
       "3402771         0.521  ...       0          0       0    0               0   \n",
       "3402773         0.826  ...       0          0       0    0               0   \n",
       "3402774         0.307  ...       0          0       0    0               0   \n",
       "\n",
       "        Traffic_Signal Sunrise_Sunset Civil_Twilight Nautical_Twilight  \\\n",
       "3402762              0          Night          Night             Night   \n",
       "3402767              0            Day            Day               Day   \n",
       "3402771              0            Day            Day               Day   \n",
       "3402773              0            Day            Day               Day   \n",
       "3402774              0            Day            Day               Day   \n",
       "\n",
       "        Astronomical_Twilight  \n",
       "3402762                 Night  \n",
       "3402767                   Day  \n",
       "3402771                   Day  \n",
       "3402773                   Day  \n",
       "3402774                   Day  \n",
       "\n",
       "[5 rows x 45 columns]"
      ]
     },
     "execution_count": 29,
     "metadata": {},
     "output_type": "execute_result"
    }
   ],
   "source": [
    "df_clean.head()"
   ]
  },
  {
   "cell_type": "code",
   "execution_count": 30,
   "id": "81d688da-41ed-4ae9-9cfa-3af0ebd1ebcd",
   "metadata": {},
   "outputs": [],
   "source": [
    "#Checking mixed-type columns again in new data set\n",
    "\n",
    "for col in df_clean.columns.tolist():\n",
    "      weird = (df_clean[[col]].applymap(type) != df_clean[[col]].iloc[0].apply(type)).any(axis = 1)\n",
    "      if len (df_clean[weird]) > 0:\n",
    "        print (col)\n",
    "        \n",
    "        #No mixed-type columns now"
   ]
  },
  {
   "cell_type": "code",
   "execution_count": 31,
   "id": "a8fc64e1-7a2c-4b18-85d7-a46af151b284",
   "metadata": {},
   "outputs": [
    {
     "name": "stdout",
     "output_type": "stream",
     "text": [
      "['Night' 'Day']\n"
     ]
    }
   ],
   "source": [
    "unique_values = df_clean['Civil_Twilight'].unique()\n",
    "print(unique_values)"
   ]
  },
  {
   "cell_type": "code",
   "execution_count": 32,
   "id": "d52d1436-5601-41c8-a892-a6073804e094",
   "metadata": {},
   "outputs": [
    {
     "name": "stderr",
     "output_type": "stream",
     "text": [
      "C:\\Users\\jmowe\\AppData\\Local\\Temp\\ipykernel_7540\\2116477786.py:4: DeprecationWarning: In a future version, `df.iloc[:, i] = newvals` will attempt to set the values inplace instead of always setting a new array. To retain the old behavior, use either `df[df.columns[i]] = newvals` or, if columns are non-unique, `df.isetitem(i, newvals)`\n",
      "  df_clean.loc[:, 'Sunrise_Sunset'] = df_clean['Sunrise_Sunset'].replace({'Day': 1, 'Night': 0})\n",
      "C:\\Users\\jmowe\\AppData\\Local\\Temp\\ipykernel_7540\\2116477786.py:5: DeprecationWarning: In a future version, `df.iloc[:, i] = newvals` will attempt to set the values inplace instead of always setting a new array. To retain the old behavior, use either `df[df.columns[i]] = newvals` or, if columns are non-unique, `df.isetitem(i, newvals)`\n",
      "  df_clean.loc[:, 'Civil_Twilight'] = df_clean['Civil_Twilight'].replace({'Day': 1, 'Night': 0})\n",
      "C:\\Users\\jmowe\\AppData\\Local\\Temp\\ipykernel_7540\\2116477786.py:6: DeprecationWarning: In a future version, `df.iloc[:, i] = newvals` will attempt to set the values inplace instead of always setting a new array. To retain the old behavior, use either `df[df.columns[i]] = newvals` or, if columns are non-unique, `df.isetitem(i, newvals)`\n",
      "  df_clean.loc[:, 'Astronomical_Twilight'] = df_clean['Astronomical_Twilight'].replace({'Day': 1, 'Night': 0})\n",
      "C:\\Users\\jmowe\\AppData\\Local\\Temp\\ipykernel_7540\\2116477786.py:7: DeprecationWarning: In a future version, `df.iloc[:, i] = newvals` will attempt to set the values inplace instead of always setting a new array. To retain the old behavior, use either `df[df.columns[i]] = newvals` or, if columns are non-unique, `df.isetitem(i, newvals)`\n",
      "  df_clean.loc[:, 'Nautical_Twilight'] = df_clean['Nautical_Twilight'].replace({'Day': 1, 'Night': 0})\n"
     ]
    }
   ],
   "source": [
    "#Changing Day and Night Values to Day=1 And Night=0\n",
    "\n",
    "df_clean = df_clean.copy()\n",
    "df_clean.loc[:, 'Sunrise_Sunset'] = df_clean['Sunrise_Sunset'].replace({'Day': 1, 'Night': 0})\n",
    "df_clean.loc[:, 'Civil_Twilight'] = df_clean['Civil_Twilight'].replace({'Day': 1, 'Night': 0})\n",
    "df_clean.loc[:, 'Astronomical_Twilight'] = df_clean['Astronomical_Twilight'].replace({'Day': 1, 'Night': 0})\n",
    "df_clean.loc[:, 'Nautical_Twilight'] = df_clean['Nautical_Twilight'].replace({'Day': 1, 'Night': 0})\n"
   ]
  },
  {
   "cell_type": "code",
   "execution_count": 33,
   "id": "4f7181ff-e5a7-4bdd-afb4-ee532516913d",
   "metadata": {},
   "outputs": [
    {
     "name": "stdout",
     "output_type": "stream",
     "text": [
      "[0 1]\n"
     ]
    }
   ],
   "source": [
    "unique_values = df_clean['Sunrise_Sunset'].unique()\n",
    "print(unique_values)"
   ]
  },
  {
   "cell_type": "code",
   "execution_count": 34,
   "id": "4ea7d080-6c1e-42ff-ae51-13af2fd8dd55",
   "metadata": {},
   "outputs": [
    {
     "name": "stdout",
     "output_type": "stream",
     "text": [
      "[0 1]\n"
     ]
    }
   ],
   "source": [
    "unique_values = df_clean['Civil_Twilight'].unique()\n",
    "print(unique_values)"
   ]
  },
  {
   "cell_type": "code",
   "execution_count": 35,
   "id": "e7e61867-7980-40e4-b346-940779e2b225",
   "metadata": {},
   "outputs": [
    {
     "data": {
      "text/plain": [
       "(3554549, 45)"
      ]
     },
     "execution_count": 35,
     "metadata": {},
     "output_type": "execute_result"
    }
   ],
   "source": [
    "df_clean.shape"
   ]
  },
  {
   "cell_type": "code",
   "execution_count": 36,
   "id": "504c8b63-680d-4dd8-9e79-d407ffe99685",
   "metadata": {},
   "outputs": [
    {
     "name": "stdout",
     "output_type": "stream",
     "text": [
      "[0.00e+00 1.00e-02 8.00e-02 5.00e-02 3.00e-02 2.00e-02 4.00e-02 1.00e-01\n",
      " 1.80e-01 2.20e-01 9.00e-02 1.10e-01 1.20e-01 6.00e-02 7.00e-02 1.30e-01\n",
      " 3.20e-01 1.50e-01 2.10e-01 2.40e-01 5.30e-01 9.00e-01 1.40e-01 2.00e-01\n",
      " 1.90e-01 2.50e-01 2.70e-01 3.40e-01 1.70e-01 1.60e-01 5.00e-01 3.00e-01\n",
      " 9.93e+00 5.50e-01 7.60e-01 2.30e-01 4.50e-01 2.60e-01 2.73e+00 6.00e-01\n",
      " 2.80e-01 9.97e+00 9.95e+00 9.99e+00 2.90e-01 4.10e-01 9.98e+00 9.96e+00\n",
      " 3.90e-01 4.40e-01 7.80e-01 5.40e-01 4.30e-01 5.70e-01 7.90e-01 3.70e-01\n",
      " 3.30e-01 1.15e+00 5.20e-01 6.20e-01 5.10e-01 3.10e-01 7.20e-01 4.80e-01\n",
      " 4.70e-01 3.50e-01 4.00e-01 9.80e-01 4.20e-01 4.60e-01 3.80e-01 7.50e-01\n",
      " 1.01e+00 7.10e-01 7.70e-01 7.00e-01 3.60e-01 4.90e-01 5.60e-01 1.08e+00\n",
      " 6.10e-01 6.70e-01 7.40e-01 8.90e-01 1.95e+00 9.70e-01 8.20e-01 1.07e+00\n",
      " 1.39e+00 1.80e+00 6.40e-01 5.90e-01 1.19e+00 6.50e-01 1.67e+00 6.80e-01\n",
      " 1.10e+00 2.05e+00 8.80e-01 1.57e+00 6.30e-01 6.60e-01 1.42e+00 1.21e+00\n",
      " 9.90e-01 1.56e+00 1.11e+00 1.27e+00 1.22e+00 1.04e+00 8.60e-01 5.80e-01\n",
      " 1.40e+00 1.28e+00 1.77e+00 8.00e-01 2.31e+00 1.17e+00 1.02e+00 9.40e-01\n",
      " 1.64e+00 8.30e-01 1.47e+00 1.43e+00 1.05e+00 1.38e+00 8.40e-01 1.03e+00\n",
      " 2.11e+00 1.06e+00 1.18e+00 1.00e+00 9.30e-01 1.13e+00 9.60e-01 1.58e+00\n",
      " 6.90e-01 1.82e+00 9.10e-01 1.37e+00 1.52e+00 1.09e+00 1.31e+00 9.20e-01\n",
      " 1.12e+00 8.50e-01 1.16e+00 1.14e+00 1.34e+00 7.30e-01 1.32e+00 3.00e+00\n",
      " 1.29e+00 9.50e-01 1.36e+00 1.35e+00 8.10e-01 1.62e+00 8.70e-01 1.63e+00\n",
      " 1.86e+00 1.68e+00 1.46e+00 1.41e+00 1.71e+00 1.55e+00 1.30e+00 1.25e+00\n",
      " 1.79e+00 1.88e+00 1.23e+00 2.14e+00 1.26e+00 1.83e+00 1.93e+00 1.61e+00\n",
      " 1.81e+00 1.85e+00 2.23e+00 1.49e+00 1.60e+00 2.30e+00 1.20e+00 1.48e+00\n",
      " 2.34e+00 2.36e+00 2.04e+00 2.54e+00 1.45e+00 2.01e+00 1.75e+00 2.03e+00\n",
      " 2.57e+00 1.24e+00 2.47e+00 1.53e+00 2.64e+00 2.75e+00 1.70e+00 1.69e+00\n",
      " 1.65e+00 2.40e+00 1.51e+00 1.72e+00 1.87e+00 1.66e+00 3.42e+00 1.33e+00\n",
      " 1.92e+00 1.50e+00 2.26e+00 5.13e+00 2.85e+00 1.99e+00 1.91e+00 1.04e+01\n",
      " 2.40e+01 1.59e+00 1.76e+00 1.73e+00]\n"
     ]
    }
   ],
   "source": [
    "#Looking at some unique values to better understand the data\n",
    "\n",
    "unique_values = df_clean['Precipitation(in)'].unique()\n",
    "print(unique_values)"
   ]
  },
  {
   "cell_type": "code",
   "execution_count": 37,
   "id": "12d35d5e-8324-4929-afb5-22a165375dd8",
   "metadata": {},
   "outputs": [
    {
     "name": "stdout",
     "output_type": "stream",
     "text": [
      "['SW' 'WSW' 'West' 'NNW' 'WNW' 'NW' 'W' 'SSW' 'East' 'SE' 'North' 'ENE'\n",
      " 'NNE' 'NE' 'SSE' 'CALM' 'South' 'ESE' 'S' 'Variable' 'VAR' 'N' 'E']\n"
     ]
    }
   ],
   "source": [
    "unique_values = df_clean['Wind_Direction'].unique()\n",
    "print(unique_values)"
   ]
  },
  {
   "cell_type": "code",
   "execution_count": 38,
   "id": "569e00cf-ceeb-4178-9992-167773846af2",
   "metadata": {},
   "outputs": [
    {
     "name": "stdout",
     "output_type": "stream",
     "text": [
      "[ 58.  93.  92. 100.  96.  88.  80.  82.  86.  90.  81.  73.  77.  78.\n",
      "  85.  84.  79.  68.  74.  75.  63.  57.  56.  59.  70.  71.  54.  46.\n",
      "  60.  50.  65.  62.  67.  89.  69.  99.  97.  76.  87.  66.  53.   8.\n",
      "  12.  15.  23.  24.  39.  51.  36.  38.  83.  40.  22.   6.  48.  49.\n",
      "  42.  10.  37.  45.  44.  31.  64.  94.  34.  72.  43.  55.  14.  30.\n",
      "  21.  18.  19.  91.  98.  47.  95.  41.  61.  52.  33.  32.  28.  27.\n",
      "  35.   9.  20.  25.  17.  16.  13.  11.  26.  29.   7.   5.   4.   3.\n",
      "   2.   1.]\n"
     ]
    }
   ],
   "source": [
    "unique_values = df_clean['Humidity(%)'].unique()\n",
    "print(unique_values)"
   ]
  },
  {
   "cell_type": "code",
   "execution_count": 40,
   "id": "726f5278-1322-4bdc-82b4-3527cb35cd7f",
   "metadata": {},
   "outputs": [],
   "source": [
    "#Exporting the cleaned data\n",
    "\n",
    "\n",
    "df_clean.to_csv(os.path.join(path, 'Data','df_clean.csv'))"
   ]
  },
  {
   "cell_type": "code",
   "execution_count": 41,
   "id": "8bd7b963-34c7-4c7e-9b4d-a2b1e19a1dcf",
   "metadata": {},
   "outputs": [
    {
     "name": "stdout",
     "output_type": "stream",
     "text": [
      "['OH' 'IN' 'KY' 'WV' 'PA' 'MI' 'CA' 'MN' 'LA' 'NE' 'MO' 'IA' 'ND' 'CO'\n",
      " 'KS' 'TX' 'WI' 'OK' 'WY' 'SD' 'MS' 'AR' 'IL' 'MA' 'RI' 'ME' 'NY' 'TN'\n",
      " 'FL' 'MD' 'NC' 'GA' 'VA' 'CT' 'NJ' 'DE' 'NH' 'SC' 'VT' 'DC' 'AL' 'MT'\n",
      " 'ID' 'UT' 'AZ' 'NM' 'NV' 'WA' 'OR']\n"
     ]
    }
   ],
   "source": [
    "unique_values = df_clean['State'].unique()\n",
    "print(unique_values)"
   ]
  },
  {
   "cell_type": "code",
   "execution_count": 1,
   "id": "56695937-9acc-434e-85c8-c6b6537e1b58",
   "metadata": {},
   "outputs": [
    {
     "ename": "NameError",
     "evalue": "name 'unique_values' is not defined",
     "output_type": "error",
     "traceback": [
      "\u001b[1;31m---------------------------------------------------------------------------\u001b[0m",
      "\u001b[1;31mNameError\u001b[0m                                 Traceback (most recent call last)",
      "Cell \u001b[1;32mIn[1], line 1\u001b[0m\n\u001b[1;32m----> 1\u001b[0m \u001b[43munique_values\u001b[49m\u001b[38;5;241m.\u001b[39mtype\n",
      "\u001b[1;31mNameError\u001b[0m: name 'unique_values' is not defined"
     ]
    }
   ],
   "source": []
  },
  {
   "cell_type": "code",
   "execution_count": null,
   "id": "e17a971e-0748-47ba-ba07-01944c27a14b",
   "metadata": {},
   "outputs": [],
   "source": []
  }
 ],
 "metadata": {
  "kernelspec": {
   "display_name": "Python 3 (ipykernel)",
   "language": "python",
   "name": "python3"
  },
  "language_info": {
   "codemirror_mode": {
    "name": "ipython",
    "version": 3
   },
   "file_extension": ".py",
   "mimetype": "text/x-python",
   "name": "python",
   "nbconvert_exporter": "python",
   "pygments_lexer": "ipython3",
   "version": "3.10.9"
  }
 },
 "nbformat": 4,
 "nbformat_minor": 5
}
